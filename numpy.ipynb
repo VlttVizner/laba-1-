{
  "cells": [
    {
      "cell_type": "markdown",
      "metadata": {
        "id": "vC84e9kzyxPy"
      },
      "source": [
        "<h1>Импорт библиотек"
      ]
    },
    {
      "cell_type": "code",
      "execution_count": null,
      "metadata": {
        "id": "cgKeNegmQG5S"
      },
      "outputs": [],
      "source": [
        "import numpy as np\n",
        "import matplotlib.pyplot as plt"
      ]
    },
    {
      "cell_type": "markdown",
      "metadata": {
        "id": "qFM9uVU2x4Ls"
      },
      "source": [
        "<h1>Задача 1. Дан набор из $p$ матриц размерностью $(n, n)$ и $p$ векторов размерностью $(n, 1)$, найти сумму произведений матриц на векторы. Написать тесты для кода"
      ]
    },
    {
      "cell_type": "code",
      "execution_count": null,
      "metadata": {
        "id": "IAbUvEiYyWFF"
      },
      "outputs": [],
      "source": [
        "import numpy as np\n",
        "import matplotlib.pyplot as plt\n",
        "\n",
        "def fill_normal_matrix(m, n, mean=0, std=1):\n",
        "    matrix = np.random.normal(mean, std, (m, n))\n",
        "    return matrix\n",
        "\n",
        "def compute_statistics(matrix):\n",
        "    col_means = np.mean(matrix, axis=0)\n",
        "    col_vars = np.var(matrix, axis=0)\n",
        "    row_means = np.mean(matrix, axis=1)\n",
        "    row_vars = np.var(matrix, axis=1)\n",
        "    return (col_means, col_vars), (row_means, row_vars)\n",
        "\n",
        "def plot_histograms(matrix):\n",
        "    m, n = matrix.shape\n",
        "    fig, axes = plt.subplots(m + n, 2, figsize=(10, 10))\n",
        "    for i in range(m):\n",
        "        axes[i, 0].hist(matrix[i], bins=20)\n",
        "        axes[i, 0].set_title(f'Row {i+1} Histogram')\n",
        "    for j in range(n):\n",
        "        axes[j, 1].hist(matrix[:, j], bins=20, orientation='horizontal')\n",
        "        axes[j, 1].set_title(f'Column {j+1} Histogram')\n",
        "plt.tight_layout()\n",
        "plt.show()\n"
      ]
    },
    {
      "cell_type": "markdown",
      "metadata": {
        "id": "TKwPG4fIy2w4"
      },
      "source": [
        "<h1>Задача 2. Дана матрица M, напишите функцию, которая бинаризует матрицу по некоторому threshold (то есть, все значения большие threshold становятся равными 1, иначе 0). Напишите тесты для кода"
      ]
    },
    {
      "cell_type": "code",
      "execution_count": null,
      "metadata": {
        "id": "KQDNMgsjRNH7"
      },
      "outputs": [],
      "source": [
        "import numpy as np\n",
        "import matplotlib.pyplot as plt\n",
        "def binarize(M, threshold=0.5):\n",
        "    return (M > threshold).astype(int)"
      ]
    },
    {
      "cell_type": "markdown",
      "metadata": {
        "id": "IY5L-h-7zWhN"
      },
      "source": [
        "<h1>Задача 3. Напишите функцию, которая возвращает уникальные элементы из каждой строки матрицы. Напишите такую же функцию, но для столбцов. Напишите тесты для кода"
      ]
    },
    {
      "cell_type": "code",
      "execution_count": null,
      "metadata": {
        "id": "-8dEZhR0SBC-"
      },
      "outputs": [],
      "source": [
        "import numpy as np\n",
        "import matplotlib.pyplot as plt\n",
        "def unique_rows(mat):\n",
        "    return [np.unique(row) for row in mat]\n",
        "\n",
        "def unique_columns(mat):\n",
        "    return [np.unique(mat[:, i]) for i in range(mat.shape[1])]"
      ]
    },
    {
      "cell_type": "markdown",
      "metadata": {
        "id": "roYAlo4Jz-lH"
      },
      "source": [
        "<h1>Задача 4. Напишите функцию, которая заполняет матрицу с размерами $(m, n)$ случайными числами, распределенными по нормальному закону. Затем считает мат. ожидание и дисперсию для каждого из столбцов и строк, а также строит для каждой строки и столбца гистограмму значений (использовать функцию hist из модуля matplotlib.plot)"
      ]
    },
    {
      "cell_type": "code",
      "execution_count": null,
      "metadata": {
        "id": "nZK_71hMSQzv"
      },
      "outputs": [],
      "source": [
        "import numpy as np\n",
        "import matplotlib.pyplot as plt\n",
        "\n",
        "def fill_normal_matrix(m, n, mean=0, std=1):\n",
        "    matrix = np.random.normal(mean, std, (m, n))\n",
        "    return matrix\n",
        "\n",
        "def compute_statistics(matrix):\n",
        "    col_means = np.mean(matrix, axis=0)\n",
        "    col_vars = np.var(matrix, axis=0)\n",
        "    row_means = np.mean(matrix, axis=1)\n",
        "    row_vars = np.var(matrix, axis=1)\n",
        "    return (col_means, col_vars), (row_means, row_vars)\n",
        "\n",
        "def plot_histograms(matrix):\n",
        "    m, n = matrix.shape\n",
        "    fig, axes = plt.subplots(m + n, 2, figsize=(10, 10))\n",
        "    for i in range(m):\n",
        "        axes[i, 0].hist(matrix[i], bins=20)\n",
        "        axes[i, 0].set_title(f'Row {i+1} Histogram')\n",
        "    for j in range(n):\n",
        "        axes[j, 1].hist(matrix[:, j], bins=20, orientation='horizontal')\n",
        "        axes[j, 1].set_title(f'Column {j+1} Histogram')\n",
        "plt.tight_layout()\n",
        "plt.show()"
      ]
    },
    {
      "cell_type": "markdown",
      "metadata": {
        "id": "BDyATNdM0dJ2"
      },
      "source": [
        "<h1>Задача 5. Напишите функцию, которая заполняет матрицу $(m, n)$ в шахматном порядке заданными числами $a$ и $b$. Напишите тесты для кода"
      ]
    },
    {
      "cell_type": "code",
      "execution_count": null,
      "metadata": {
        "id": "RWNJYWQGecS6"
      },
      "outputs": [],
      "source": [
        "import numpy as np\n",
        "import matplotlib.pyplot as plt\n",
        "def chess(m, n, a, b):\n",
        "    matrix = np.zeros((m, n), dtype=int)\n",
        "    for i in range(m):\n",
        "        for j in range(n):\n",
        "            if (i + j) % 2 == 0:\n",
        "                matrix[i][j] = a\n",
        "            else:\n",
        "                matrix[i][j] = b\n",
        "    return matrix"
      ]
    },
    {
      "cell_type": "markdown",
      "metadata": {
        "id": "-ymXLtTN0vB6"
      },
      "source": [
        "<h1>Задача 6. Напишите функцию, которая отрисовывает прямоугольник с заданными размерами (a, b) на изображении размера (m, n), цвет фона задайте в схеме RGB, как и цвет прямоугольника. Цвета также должны быть параметрами функции. Напишите аналогичную функцию но для овала с полуосями a и b. Напишите тесты для кода.\n",
        "Примечание: уравнение эллипса (границы овала) можно записать как:\n",
        "<h1>$\\frac{(x-x_0)^2}{a^2}+\\frac{(y-y_0)^2}{b^2}=1$"
      ]
    },
    {
      "cell_type": "code",
      "execution_count": null,
      "metadata": {
        "id": "sNfl1t_kfOF4"
      },
      "outputs": [],
      "source": [
        "import numpy as np\n",
        "import matplotlib.pyplot as plt\n",
        "\n",
        "def draw_rectangle(image, a, b, m, n, rectangle_color, background_color):\n",
        "    img = np.copy(image)\n",
        "    for i in range(m):\n",
        "        for j in range(n):\n",
        "            if (i < b or i >= m - b) and (j < a or j >= n - a):\n",
        "                img[i][j] = rectangle_color\n",
        "            else:\n",
        "                img[i][j] = background_color\n",
        "    return img\n",
        "\n",
        "def draw_ellipse(image, a, b, m, n, ellipse_color, background_color):\n",
        "    img = np.copy(image)\n",
        "    for i in range(m):\n",
        "        for j in range(n):\n",
        "            if ((j - n/2) / a)^2 + ((i - m/2) / b)^2 <= 1:\n",
        "                img[i][j] = ellipse_color\n",
        "            else:\n",
        "                img[i][j] = background_color\n",
        "    return img"
      ]
    },
    {
      "cell_type": "markdown",
      "metadata": {
        "id": "S82c38oz244H"
      },
      "source": [
        "<h1>Задача 7. Дан некий временной ряд. Для данного ряда нужно найти его: математическое ожидание, дисперсию, СКО, найти все локальные максимумы и минимумы (локальный максимум - это точка, которая больше своих соседних точек, а локальный минимум - это точка, которая меньше своих соседей), а также вычислить для данного ряда другой ряд, получаемый методом скользящего среднего с размером окна $p$.\n",
        "<h1>Примечание: метод скользящего среднего подразумевает нахождение среднего из подмножетсва ряда размером $p$"
      ]
    },
    {
      "cell_type": "code",
      "execution_count": null,
      "metadata": {
        "id": "Zb9mIVge5MMt"
      },
      "outputs": [],
      "source": [
        "import numpy as np\n",
        "import matplotlib.pyplot as plt\n",
        "\n",
        "def mean(series):\n",
        "    return np.mean(series)\n",
        "\n",
        "def variance(series):\n",
        "    return np.var(series)\n",
        "\n",
        "def std_deviation(series):\n",
        "    return np.std(series)\n",
        "\n",
        "def local_maxima_minima(series):\n",
        "    maxima = []\n",
        "    minima = []\n",
        "    for i in range(1, len(series) - 1):\n",
        "        if series[i] > series[i - 1] and series[i] > series[i + 1]:\n",
        "            maxima.append((i, series[i]))\n",
        "        elif series[i] < series[i - 1] and series[i] < series[i + 1]:\n",
        "            minima.append((i, series[i]))\n",
        "    return maxima, minima\n",
        "\n",
        "def moving_average(series, window_size):\n",
        "    moving_avg = []\n",
        "    for i in range(len(series) - window_size + 1):\n",
        "        window = series[i:i + window_size]\n",
        "        avg = np.mean(window)\n",
        "        moving_avg.append(avg)\n",
        "    return moving_avg\n"
      ]
    },
    {
      "cell_type": "markdown",
      "metadata": {
        "id": "jPkylmOX5O9n"
      },
      "source": [
        "<h1> Задача 8. Дан некоторый вектор с целочисленными метками классов, напишите функцию, которая выполняет one-hot-encoding для данного вектора\n",
        "<h1> One-hot-encoding - представление, в котором на месте метки некоторого класса стоит 1, в остальных позициях стоит 0. Например для вектора [0, 2, 3, 0] one-hot-encoding выглядит как: [[1, 0, 0, 0], [0, 0, 1, 0], [0, 0, 0, 1], [1, 0, 0, 0]]"
      ]
    },
    {
      "cell_type": "code",
      "execution_count": null,
      "metadata": {
        "id": "Y-jlnZvw56lD"
      },
      "outputs": [],
      "source": [
        "import numpy as np\n",
        "import matplotlib.pyplot as plt\n",
        "def one_hot_encoding(labels, num_classes=None):\n",
        "    if num_classes is None:\n",
        "        num_classes = max(labels) + 1\n",
        "    encoding = np.zeros((len(labels), num_classes), dtype=int)\n",
        "    encoding[np.arange(len(labels)), labels] = 1\n",
        "    return encoding\n"
      ]
    }
  ],
  "metadata": {
    "colab": {
      "provenance": []
    },
    "kernelspec": {
      "display_name": "Python 3",
      "name": "python3"
    },
    "language_info": {
      "name": "python"
    }
  },
  "nbformat": 4,
  "nbformat_minor": 0
}
